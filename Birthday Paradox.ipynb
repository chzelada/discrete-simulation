{
 "cells": [
  {
   "cell_type": "markdown",
   "metadata": {},
   "source": [
    "# Birthday Paradox"
   ]
  },
  {
   "cell_type": "markdown",
   "metadata": {},
   "source": [
    "Calcular la probabilidad de que **n** personas de un grupo de **N** celebren su cumpleaños el mismo dia.\n",
    "\n",
    "**Supuestos**\n",
    "* El año tiene 364 días\n",
    "* No tomamos en cuenta año bisiesto.\n",
    "* El 1 de enero equivale a 1\n",
    "* El 31 de diciembre equivale a 364\n",
    "* La probabilidad de nacer en cualquier día del año es uniforme\n"
   ]
  },
  {
   "cell_type": "markdown",
   "metadata": {},
   "source": [
    "## Paso 0 - Librerias"
   ]
  },
  {
   "cell_type": "code",
   "execution_count": 1,
   "metadata": {},
   "outputs": [],
   "source": [
    "import numpy as np\n",
    "import matplotlib.pyplot as plt"
   ]
  },
  {
   "cell_type": "markdown",
   "metadata": {},
   "source": [
    "## Paso 1 - Generar grupos de personas"
   ]
  },
  {
   "cell_type": "code",
   "execution_count": 2,
   "metadata": {},
   "outputs": [
    {
     "data": {
      "text/plain": [
       "array([1, 4, 1, 6, 8, 8, 1, 1, 3, 5])"
      ]
     },
     "execution_count": 2,
     "metadata": {},
     "output_type": "execute_result"
    }
   ],
   "source": [
    "np.random.randint(1,10,size=10)"
   ]
  },
  {
   "cell_type": "code",
   "execution_count": 3,
   "metadata": {},
   "outputs": [
    {
     "data": {
      "text/plain": [
       "array([4, 1, 3, 0, 9, 2, 8, 5, 7, 6])"
      ]
     },
     "execution_count": 3,
     "metadata": {},
     "output_type": "execute_result"
    }
   ],
   "source": [
    "np.random.permutation(10)"
   ]
  },
  {
   "cell_type": "code",
   "execution_count": 4,
   "metadata": {},
   "outputs": [],
   "source": [
    "def generate_group(N):\n",
    "    \"\"\"Esta funcion toma un entero y regresa un vector con N fechas de cumpleaños\"\"\"\n",
    "    return np.random.randint(1,364,size=N)"
   ]
  },
  {
   "cell_type": "code",
   "execution_count": 5,
   "metadata": {},
   "outputs": [
    {
     "data": {
      "text/plain": [
       "array([319,  95, 241, 332, 333,  12,  52,  98, 247, 115, 227, 310,  67,\n",
       "       213, 289,  64,  76, 157, 113, 242,  18, 218, 220,   9, 105, 342,\n",
       "       290, 276, 309, 189])"
      ]
     },
     "execution_count": 5,
     "metadata": {},
     "output_type": "execute_result"
    }
   ],
   "source": [
    "generate_group(30)"
   ]
  },
  {
   "cell_type": "markdown",
   "metadata": {},
   "source": [
    "## Paso 2 - Encontrar repeticiones en el grupo"
   ]
  },
  {
   "cell_type": "code",
   "execution_count": 6,
   "metadata": {},
   "outputs": [
    {
     "name": "stdout",
     "output_type": "stream",
     "text": [
      "[ 12  20  21  34  58 116 129 142 144 155 163 203 238 243 265 278 288 296\n",
      " 341 344]\n",
      "0\n"
     ]
    }
   ],
   "source": [
    "grupo_test = generate_group(20)\n",
    "u,c = np.unique(grupo_test, return_counts=True)\n",
    "print(np.sort(grupo_test,axis=None))\n",
    "print(sum(c>1))"
   ]
  },
  {
   "cell_type": "code",
   "execution_count": 7,
   "metadata": {},
   "outputs": [],
   "source": [
    "def hay_repetidos(grupo):\n",
    "    \"\"\"Esta funcion toma un vector de fechas de cumpleaños y \n",
    "    retorna si hay personar en el grupo que tienen el mismo\n",
    "    cumpleaños\"\"\"\n",
    "    u,c = np.unique(grupo, return_counts=True)\n",
    "    if sum(c>1):\n",
    "        return True\n",
    "    else:\n",
    "        return False"
   ]
  },
  {
   "cell_type": "code",
   "execution_count": 8,
   "metadata": {},
   "outputs": [
    {
     "data": {
      "text/plain": [
       "True"
      ]
     },
     "execution_count": 8,
     "metadata": {},
     "output_type": "execute_result"
    }
   ],
   "source": [
    "grupo_test = generate_group(20)\n",
    "hay_repetidos(grupo_test)"
   ]
  },
  {
   "cell_type": "markdown",
   "metadata": {},
   "source": [
    "## Paso 3 - Simular la muestra de multiples grupos de tamaño N"
   ]
  },
  {
   "cell_type": "code",
   "execution_count": 9,
   "metadata": {},
   "outputs": [
    {
     "name": "stdout",
     "output_type": "stream",
     "text": [
      "0.7091\n"
     ]
    }
   ],
   "source": [
    "cnt=0\n",
    "sim = 10000\n",
    "size = 30\n",
    "for i in range(sim):\n",
    "    grupo = generate_group(size)\n",
    "    if hay_repetidos(grupo):\n",
    "        cnt+=1\n",
    "print(cnt/sim)"
   ]
  },
  {
   "cell_type": "code",
   "execution_count": 10,
   "metadata": {},
   "outputs": [],
   "source": [
    "def birthday_paradox_probability(sim=1000,size=20):\n",
    "    cnt=0\n",
    "    for i in range(sim):\n",
    "        grupo = generate_group(size)\n",
    "        if hay_repetidos(grupo):\n",
    "            cnt+=1\n",
    "    return cnt/sim\n",
    "    "
   ]
  },
  {
   "cell_type": "code",
   "execution_count": 11,
   "metadata": {},
   "outputs": [
    {
     "data": {
      "text/plain": [
       "0.1143"
      ]
     },
     "execution_count": 11,
     "metadata": {},
     "output_type": "execute_result"
    }
   ],
   "source": [
    "birthday_paradox_probability(10000,10)"
   ]
  },
  {
   "cell_type": "markdown",
   "metadata": {},
   "source": [
    "## Paso 4 - Determinar la probabilidad para todos los posibles tamaños de grupos"
   ]
  },
  {
   "cell_type": "code",
   "execution_count": 69,
   "metadata": {},
   "outputs": [],
   "source": [
    "vbirthday_paradox_probability = np.vectorize(birthday_paradox_probability_v2)"
   ]
  },
  {
   "cell_type": "code",
   "execution_count": 70,
   "metadata": {},
   "outputs": [
    {
     "data": {
      "image/png": "[encoded data removed]",
      "text/plain": [
       "<Figure size 432x288 with 1 Axes>"
      ]
     },
     "metadata": {
      "needs_background": "light"
     },
     "output_type": "display_data"
    }
   ],
   "source": [
    "vprob=vbirthday_paradox_probability(5000,range(1,80))\n",
    "plt.plot(vprob)\n",
    "plt.show()"
   ]
  },
  {
   "cell_type": "code",
   "execution_count": 36,
   "metadata": {},
   "outputs": [],
   "source": [
    "vgenerate_group = np.vectorize(generate_group,otypes=[np.ndarray])"
   ]
  },
  {
   "cell_type": "code",
   "execution_count": 49,
   "metadata": {},
   "outputs": [],
   "source": [
    "test=vgenerate_group(np.repeat(30,5000))"
   ]
  },
  {
   "cell_type": "code",
   "execution_count": 51,
   "metadata": {},
   "outputs": [
    {
     "data": {
      "text/plain": [
       "0.7052"
      ]
     },
     "execution_count": 51,
     "metadata": {},
     "output_type": "execute_result"
    }
   ],
   "source": [
    "vhay_repetidos = np.vectorize(hay_repetidos)\n",
    "sum(vhay_repetidos(test))/5000"
   ]
  },
  {
   "cell_type": "code",
   "execution_count": 71,
   "metadata": {},
   "outputs": [],
   "source": [
    "vgenerate_group = np.vectorize(generate_group,otypes=[np.ndarray])\n",
    "vhay_repetidos = np.vectorize(hay_repetidos)\n",
    "def birthday_paradox_probability_v2(sim=1000,size=20):\n",
    "    ngrupos=vgenerate_group(np.repeat(size,sim))\n",
    "    return sum(vhay_repetidos(ngrupos))/sim"
   ]
  },
  {
   "cell_type": "code",
   "execution_count": 79,
   "metadata": {},
   "outputs": [
    {
     "name": "stdout",
     "output_type": "stream",
     "text": [
      "808 ms ± 20.1 ms per loop (mean ± std. dev. of 7 runs, 1 loop each)\n"
     ]
    }
   ],
   "source": [
    "%timeit birthday_paradox_probability_v2(10000,30)"
   ]
  },
  {
   "cell_type": "code",
   "execution_count": 76,
   "metadata": {},
   "outputs": [
    {
     "name": "stdout",
     "output_type": "stream",
     "text": [
      "CPU times: user 894 ms, sys: 6.22 ms, total: 901 ms\n",
      "Wall time: 900 ms\n"
     ]
    },
    {
     "data": {
      "text/plain": [
       "0.71"
      ]
     },
     "execution_count": 76,
     "metadata": {},
     "output_type": "execute_result"
    }
   ],
   "source": [
    "%time birthday_paradox_probability(10000,30)"
   ]
  }
 ],
 "metadata": {
  "kernelspec": {
   "display_name": "Python 3",
   "language": "python",
   "name": "python3"
  },
  "language_info": {
   "codemirror_mode": {
    "name": "ipython",
    "version": 3
   },
   "file_extension": ".py",
   "mimetype": "text/x-python",
   "name": "python",
   "nbconvert_exporter": "python",
   "pygments_lexer": "ipython3",
   "version": "3.8.5"
  }
 },
 "nbformat": 4,
 "nbformat_minor": 4
}
